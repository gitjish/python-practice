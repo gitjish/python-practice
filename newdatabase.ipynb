{
 "cells": [
  {
   "cell_type": "code",
   "execution_count": 20,
   "metadata": {},
   "outputs": [],
   "source": [
    "import mysql.connector as mariadb"
   ]
  },
  {
   "cell_type": "code",
   "execution_count": 21,
   "metadata": {},
   "outputs": [
    {
     "name": "stdout",
     "output_type": "stream",
     "text": [
      "Connecting to Mariadb database...\n"
     ]
    }
   ],
   "source": [
    "con = mariadb.connect(\n",
    "    host=\"localhost\",\n",
    "    user=\"root\",\n",
    "    password=\"password\",\n",
    "    database=\"classicmodels\"\n",
    ")\n",
    "print(\"Connecting to Mariadb database...\")\n",
    "    "
   ]
  },
  {
   "cell_type": "code",
   "execution_count": 22,
   "metadata": {},
   "outputs": [],
   "source": [
    "cur=con.cursor()\n",
    "st= \"SELECT productLine,COUNT(*)\\\n",
    "    FROM products\\\n",
    "    WHERE productLine='{}'\"\n",
    "cur.execute(st.format('Motorcycles'))\n",
    "    "
   ]
  },
  {
   "cell_type": "code",
   "execution_count": 23,
   "metadata": {},
   "outputs": [
    {
     "name": "stdout",
     "output_type": "stream",
     "text": [
      "[('Motorcycles', 13)]\n"
     ]
    }
   ],
   "source": [
    "result=cur.fetchall()\n",
    "print(result)\n",
    "con.close()"
   ]
  },
  {
   "attachments": {},
   "cell_type": "markdown",
   "metadata": {},
   "source": [
    "now create a new database\n",
    "we are not connecting to a specific database\n",
    "strings can be passed directly into execute method"
   ]
  },
  {
   "cell_type": "code",
   "execution_count": 26,
   "metadata": {},
   "outputs": [
    {
     "name": "stdout",
     "output_type": "stream",
     "text": [
      "Connecting to Mariadb database...\n",
      "test_db created\n"
     ]
    }
   ],
   "source": [
    "con = mariadb.connect(\n",
    "    host=\"localhost\",\n",
    "    user=\"root\",\n",
    "    password=\"password\"\n",
    "\n",
    ")\n",
    "print(\"Connecting to Mariadb database...\")\n",
    "cur=con.cursor()\n",
    "st=\"CREATE DATABASE test_db\"\n",
    "cur.execute(st)\n",
    "print(\"test_db created\")\n",
    "con.close()\n",
    "    "
   ]
  },
  {
   "attachments": {},
   "cell_type": "markdown",
   "metadata": {},
   "source": [
    "create table to  test_db"
   ]
  },
  {
   "cell_type": "code",
   "execution_count": 27,
   "metadata": {},
   "outputs": [
    {
     "name": "stdout",
     "output_type": "stream",
     "text": [
      "Connecting to Mariadb database...\n",
      "Registration table  created\n"
     ]
    }
   ],
   "source": [
    "con = mariadb.connect(\n",
    "    host=\"localhost\",\n",
    "    user=\"root\",\n",
    "    password=\"password\",\n",
    "    database=\"test_db\"\n",
    "\n",
    ")\n",
    "print(\"Connecting to Mariadb database...\")\n",
    "cur=con.cursor()\n",
    "st=\"CREATE TABLE Registration\\\n",
    "    (id INTEGER,age INTEGER,\\\n",
    "    first VARCHAR(50),last VARCHAR(50))\"\n",
    "cur.execute(st)\n",
    "print(\"Registration table  created\")\n",
    "con.close()"
   ]
  },
  {
   "cell_type": "code",
   "execution_count": 30,
   "metadata": {},
   "outputs": [
    {
     "name": "stdout",
     "output_type": "stream",
     "text": [
      "Connecting to Mariadb database...\n",
      "Values are inserted\n"
     ]
    }
   ],
   "source": [
    "con = mariadb.connect(\n",
    "    host=\"localhost\",\n",
    "    user=\"root\",\n",
    "    password=\"password\",\n",
    "    database=\"test_db\"\n",
    "\n",
    ")\n",
    "print(\"Connecting to Mariadb database...\")\n",
    "cur=con.cursor()\n",
    "st=\"INSERT INTO Registration \\\n",
    "    (id, age, first, last) VALUES \\\n",
    "    (100, 29, 'Michael', 'Jordan'), \\\n",
    "    (101, 29, 'Diego', 'Maradona'), \\\n",
    "    (102, 33, 'Babe', 'Ruth'), \\\n",
    "    (103, 40, 'Wayne', 'Gretzky'), \\\n",
    "    (104, 27, 'Michelle', 'Kwan'), \\\n",
    "    (105, 35, 'Steffi', 'Graf')\"\n",
    "cur.execute(st)\n",
    "con.commit()\n",
    "print(\"Values are inserted\")   \n",
    "con.close()\n"
   ]
  },
  {
   "cell_type": "code",
   "execution_count": 31,
   "metadata": {},
   "outputs": [
    {
     "name": "stdout",
     "output_type": "stream",
     "text": [
      "Connecting to Mariadb database...\n",
      "Values are Updated\n"
     ]
    }
   ],
   "source": [
    "con = mariadb.connect(\n",
    "    host=\"localhost\",\n",
    "    user=\"root\",\n",
    "    password=\"password\",\n",
    "    database=\"test_db\"\n",
    "\n",
    ")\n",
    "print(\"Connecting to Mariadb database...\")\n",
    "cur=con.cursor()\n",
    "st=\"UPDATE Registration\\\n",
    "    SET age=30 WHERE id IN (100,101)\"\n",
    "cur.execute(st)\n",
    "con.commit()\n",
    "print(\"Values are Updated\")   \n",
    "con.close()    "
   ]
  },
  {
   "cell_type": "code",
   "execution_count": null,
   "metadata": {},
   "outputs": [],
   "source": []
  }
 ],
 "metadata": {
  "kernelspec": {
   "display_name": "Python 3",
   "language": "python",
   "name": "python3"
  },
  "language_info": {
   "codemirror_mode": {
    "name": "ipython",
    "version": 3
   },
   "file_extension": ".py",
   "mimetype": "text/x-python",
   "name": "python",
   "nbconvert_exporter": "python",
   "pygments_lexer": "ipython3",
   "version": "3.11.0"
  },
  "orig_nbformat": 4,
  "vscode": {
   "interpreter": {
    "hash": "f884144a6e149779c8b893bcebed488774240f991d9527b1f28d134615f7f1b6"
   }
  }
 },
 "nbformat": 4,
 "nbformat_minor": 2
}
